{
  "nbformat": 4,
  "nbformat_minor": 0,
  "metadata": {
    "colab": {
      "provenance": [],
      "toc_visible": true,
      "authorship_tag": "ABX9TyM9AYlGG/HOX4i8xSUj5W48",
      "include_colab_link": true
    },
    "kernelspec": {
      "name": "python3",
      "display_name": "Python 3"
    },
    "language_info": {
      "name": "python"
    }
  },
  "cells": [
    {
      "cell_type": "markdown",
      "metadata": {
        "id": "view-in-github",
        "colab_type": "text"
      },
      "source": [
        "<a href=\"https://colab.research.google.com/github/bugsotim/dataviz2025/blob/main/my_first_python_code.ipynb\" target=\"_parent\"><img src=\"https://colab.research.google.com/assets/colab-badge.svg\" alt=\"Open In Colab\"/></a>"
      ]
    },
    {
      "cell_type": "markdown",
      "source": [
        "Here we can write **markdown**\n",
        "# intro"
      ],
      "metadata": {
        "id": "ZVzCPihhH0iN"
      }
    },
    {
      "cell_type": "markdown",
      "source": [
        "##name"
      ],
      "metadata": {
        "id": "-UYK1FXiIWmH"
      }
    },
    {
      "cell_type": "code",
      "source": [
        "print(\"Siriwan\")"
      ],
      "metadata": {
        "colab": {
          "base_uri": "https://localhost:8080/"
        },
        "id": "C68Cj699I1Pw",
        "outputId": "743b0abd-d881-4b25-c24a-83e717743064"
      },
      "execution_count": 3,
      "outputs": [
        {
          "output_type": "stream",
          "name": "stdout",
          "text": [
            "Siriwan\n"
          ]
        }
      ]
    },
    {
      "cell_type": "markdown",
      "source": [
        "##surnname"
      ],
      "metadata": {
        "id": "MzY5ycOhIdd8"
      }
    },
    {
      "cell_type": "code",
      "source": [
        "print('Nuanwan')"
      ],
      "metadata": {
        "colab": {
          "base_uri": "https://localhost:8080/"
        },
        "id": "9hDM5EMPJXUs",
        "outputId": "2f082d70-8515-46f1-b06a-8e2a20e70bda"
      },
      "execution_count": 4,
      "outputs": [
        {
          "output_type": "stream",
          "name": "stdout",
          "text": [
            "Nuanwan\n"
          ]
        }
      ]
    },
    {
      "cell_type": "markdown",
      "source": [],
      "metadata": {
        "id": "RoXGJXTmIYfa"
      }
    },
    {
      "cell_type": "code",
      "source": [],
      "metadata": {
        "id": "9HyG-4-MINRT"
      },
      "execution_count": null,
      "outputs": []
    }
  ]
}